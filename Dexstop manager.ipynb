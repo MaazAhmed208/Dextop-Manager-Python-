{
 "cells": [
  {
   "cell_type": "code",
   "execution_count": 112,
   "metadata": {},
   "outputs": [
    {
     "name": "stdout",
     "output_type": "stream",
     "text": [
      "C:\\Users\\Maaz Ahmed Salman\\Desktop/\n",
      "code in the dark\n",
      "Code.exe - Shortcut.lnk\n",
      "css-trick Mockup.docx\n",
      "desktop.ini\n",
      "faltu\n",
      "Free Snipping Tool.lnk\n",
      "games\n",
      "HCI Lecture 1.pptx\n",
      "HCI Lecture 2.pptx\n",
      "IDEA 1.0.pptx\n",
      "imran-2019.docx\n",
      "maaz\n",
      "Maaz Os\n",
      "Main\n",
      "medicalleave.docx\n",
      "New Text Document.txt\n",
      "Slide 1- Week 1-Theoretical Concepts of HCI.pptx\n",
      "Web anylazer.docx\n",
      "~$(maaz).docx\n",
      "~$b Manual Power Electronics.docx\n",
      "~$ENG 1.docx\n",
      "~$lab.docx\n",
      "~$mmunication.docx\n",
      "~$NAL PROJECT.docx\n",
      "~$quiz8.docx\n",
      "~$w Microsoft Word Document (2).docx\n",
      "~WRL0003.tmp\n",
      "After copying file:\n",
      "['css-trick Mockup.docx', 'imran-2019.docx', 'medicalleave.docx', 'Web anylazer.docx', '~$(maaz).docx', '~$b Manual Power Electronics.docx', '~$ENG 1.docx', '~$lab.docx', '~$mmunication.docx', '~$NAL PROJECT.docx', '~$quiz8.docx', '~$w Microsoft Word Document (2).docx']\n",
      "Destination path: C:/Users/Maaz Ahmed Salman/Desktop/Main\\~$w Microsoft Word Document (2).docx\n",
      "The Desktop path is: C:\\Users\\Maaz Ahmed Salman\\Desktop/\n",
      "['code in the dark', 'Code.exe - Shortcut.lnk', 'css-trick Mockup.docx', 'desktop.ini', 'faltu', 'Free Snipping Tool.lnk', 'games', 'HCI Lecture 1.pptx', 'HCI Lecture 2.pptx', 'IDEA 1.0.pptx', 'imran-2019.docx', 'maaz', 'Maaz Os', 'Main', 'medicalleave.docx', 'New Text Document.txt', 'Slide 1- Week 1-Theoretical Concepts of HCI.pptx', 'Web anylazer.docx', '~$(maaz).docx', '~$b Manual Power Electronics.docx', '~$ENG 1.docx', '~$lab.docx', '~$mmunication.docx', '~$NAL PROJECT.docx', '~$quiz8.docx', '~$w Microsoft Word Document (2).docx', '~WRL0003.tmp']\n",
      "css-trick Mockup.docx\n"
     ]
    }
   ],
   "source": [
    "import os\n",
    "import shutil \n",
    "\n",
    "desktop = os.path.join(os.path.join(os.environ['USERPROFILE']), 'Desktop/')\n",
    "entries = os.listdir(desktop)\n",
    "destination = \"C:/Users/Maaz Ahmed Salman/Desktop/Main\"\n",
    "print(desktop)\n",
    "\n",
    "# for x in entries:\n",
    "#   print(x)\n",
    "# source = 'C:/Users/Maaz Ahmed Salman/Desktop/'+ x\n",
    "#    dest = shutil.copy(source, destination,follow_symlinks = True )  \n",
    "\n",
    "\n",
    "\n",
    "for x in entries:\n",
    "    print(x)\n",
    "    if x.endswith('.docx'):\n",
    "        source='C:/Users/Maaz Ahmed Salman/Desktop/'+x\n",
    "        dest = shutil.copy(source,destination,follow_symlinks = True)\n",
    "    \n",
    "    \n",
    "\n",
    " \n",
    "\n",
    "  \n",
    "print(\"After copying file:\") \n",
    "print(os.listdir(destination)) \n",
    "\n",
    "print(\"Destination path:\", dest) \n",
    "\n",
    "# Prints: C:\\Users\\sdkca\\Desktop\n",
    "print(\"The Desktop path is: \" + desktop)\n",
    "\n",
    "\n",
    "print(entries)\n",
    "\n",
    "# cwd = os.getcwd() \n",
    "  \n",
    "# # print the current directory \n",
    "# # print(\"Current working directory is:\", cwd) \n",
    "# # user = os.environ.get('USERNAME')\n",
    "print(entries[2])\n",
    "\n",
    "\n"
   ]
  },
  {
   "cell_type": "code",
   "execution_count": null,
   "metadata": {},
   "outputs": [],
   "source": []
  },
  {
   "cell_type": "code",
   "execution_count": null,
   "metadata": {},
   "outputs": [],
   "source": []
  },
  {
   "cell_type": "code",
   "execution_count": null,
   "metadata": {},
   "outputs": [],
   "source": []
  }
 ],
 "metadata": {
  "kernelspec": {
   "display_name": "Python 3",
   "language": "python",
   "name": "python3"
  },
  "language_info": {
   "codemirror_mode": {
    "name": "ipython",
    "version": 3
   },
   "file_extension": ".py",
   "mimetype": "text/x-python",
   "name": "python",
   "nbconvert_exporter": "python",
   "pygments_lexer": "ipython3",
   "version": "3.7.4"
  }
 },
 "nbformat": 4,
 "nbformat_minor": 2
}
